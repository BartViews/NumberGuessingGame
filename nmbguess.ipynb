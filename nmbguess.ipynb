print ('Welcome to NmbGuess!')
print ('Guess the given number from 1-100.')

import random
x = random.randrange(1,100)
#print(x) #validation

if x <= 10:
  print('Hint: It is more than nothing but less than smallest PLN note!')
elif 10 < x <= 25:
  print('Hint: You will find it after you double 5 but before you square it!')
elif 25 < x <= 50:
  print('Hint: Square root of 625 opens range, number of US states closes it!')
elif 50 < x <= 65:
  print('Hint: Start with Kazimierz III Wielki in blue, finish on men retirement age in Poland!')
elif 65 < x <= 82:
  print('Hint: Start with 144cm x 81cm TV in inches, limit your search to French life expectancy!')
elif 82 < x <= 100:
  print ('Hint: One of the highest values available!')
  
guess = input('Enter your guess:')
guess = int(guess)
#print(type(guess)) #validation
if guess == x:
  print('Congratulations, you won!')
  print('Reload if you want to play again!')
else:
  print('Try again. Use the hint.')

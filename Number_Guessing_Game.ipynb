{
  "nbformat": 4,
  "nbformat_minor": 0,
  "metadata": {
    "colab": {
      "name": "Number Guessing Game.ipynb",
      "provenance": [],
      "collapsed_sections": [],
      "toc_visible": true,
      "authorship_tag": "ABX9TyP+4kmSIc3J5XbUV89e2qct",
      "include_colab_link": true
    },
    "kernelspec": {
      "name": "python3",
      "display_name": "Python 3"
    },
    "language_info": {
      "name": "python"
    }
  },
  "cells": [
    {
      "cell_type": "markdown",
      "metadata": {
        "id": "view-in-github",
        "colab_type": "text"
      },
      "source": [
        "<a href=\"https://colab.research.google.com/github/BartViews/NumberGuessingGame/blob/main/Number_Guessing_Game.ipynb\" target=\"_parent\"><img src=\"https://colab.research.google.com/assets/colab-badge.svg\" alt=\"Open In Colab\"/></a>"
      ]
    },
    {
      "cell_type": "markdown",
      "metadata": {
        "id": "tPE9BW4fmA_t"
      },
      "source": [
        "#Game welcome"
      ]
    },
    {
      "cell_type": "code",
      "metadata": {
        "colab": {
          "base_uri": "https://localhost:8080/"
        },
        "id": "1YHBmCuumGUj",
        "outputId": "56c21871-dfd2-4543-93f0-746e0fbdc4c0"
      },
      "source": [
        "print ('Welcome to NmbGuess!')\n",
        "print ('Guess the given number from 1-100.')"
      ],
      "execution_count": null,
      "outputs": [
        {
          "output_type": "stream",
          "text": [
            "Welcome to NmbGuess!\n",
            "Guess the given number from 1-100.\n"
          ],
          "name": "stdout"
        }
      ]
    },
    {
      "cell_type": "markdown",
      "metadata": {
        "id": "ydM-L4S6nWMN"
      },
      "source": [
        "# Generating random number"
      ]
    },
    {
      "cell_type": "code",
      "metadata": {
        "colab": {
          "base_uri": "https://localhost:8080/"
        },
        "id": "Kw4MmI1mnaj0",
        "outputId": "1e8193fd-49fd-4736-a54d-834d7cc91153"
      },
      "source": [
        "import random\n",
        "x = random.randrange(1,100)\n",
        "print(x) #validation"
      ],
      "execution_count": null,
      "outputs": [
        {
          "output_type": "stream",
          "text": [
            "61\n"
          ],
          "name": "stdout"
        }
      ]
    },
    {
      "cell_type": "markdown",
      "metadata": {
        "id": "1tbM2rN5oQce"
      },
      "source": [
        "# Providing hints"
      ]
    },
    {
      "cell_type": "code",
      "metadata": {
        "colab": {
          "base_uri": "https://localhost:8080/"
        },
        "id": "8vUvxD5_oTNp",
        "outputId": "516288fd-cd6e-465d-f523-e445844c92a6"
      },
      "source": [
        "if x <= 10:\n",
        "  print('Hint: It is more than nothing but less than smallest PLN note!')\n",
        "elif 10 < x <= 25:\n",
        "  print('Hint: You will find it after you double 5 but before you square it!')\n",
        "elif 25 < x <= 50:\n",
        "  print('Hint: Square root of 625 opens range, number of US states closes it!')\n",
        "elif 50 < x <= 65:\n",
        "  print('Hint: Start with Kazimierz III Wielki in blue, finish on men retirement age in Poland!')\n",
        "elif 65 < x <= 82:\n",
        "  print('Hint: Start with 144cm x 81cm TV in inches, limit your search to French life expectancy!')\n",
        "elif 82 < x <= 100:\n",
        "  print ('Hint: One of the highest values available!')"
      ],
      "execution_count": null,
      "outputs": [
        {
          "output_type": "stream",
          "text": [
            "Hint: Start with Kazimierz III Wielki in blue, finish on men retirement age in Poland!\n"
          ],
          "name": "stdout"
        }
      ]
    },
    {
      "cell_type": "markdown",
      "metadata": {
        "id": "iHJrKWJFvaxx"
      },
      "source": [
        "# Ask for input and evaluate"
      ]
    },
    {
      "cell_type": "code",
      "metadata": {
        "colab": {
          "base_uri": "https://localhost:8080/"
        },
        "id": "WJr8EvUFveDT",
        "outputId": "d767d840-ac24-4a4e-fbd6-fe64bf66d481"
      },
      "source": [
        "guess = input('Enter your guess:')\n",
        "guess = int(guess)\n",
        "#print(type(guess)) #validation\n",
        "if guess == x:\n",
        "  print('Congratulations, you won!')\n",
        "  print('Reload if you want to play again!')\n",
        "else:\n",
        "  print('Try again. Use the hint.')"
      ],
      "execution_count": null,
      "outputs": [
        {
          "output_type": "stream",
          "text": [
            "Enter your guess:61\n",
            "Congratulations, you won!\n",
            "Reload if you want to play again!\n"
          ],
          "name": "stdout"
        }
      ]
    }
  ]
}